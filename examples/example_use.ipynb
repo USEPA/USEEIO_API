{
 "cells": [
  {
   "cell_type": "markdown",
   "metadata": {},
   "source": [
    "This is a Python example demonstrating use of the USEEIO API.\n",
    "It assumes that the API is running on the local machine and queries it from there."
   ]
  },
  {
   "cell_type": "code",
   "execution_count": 1,
   "metadata": {},
   "outputs": [],
   "source": [
    "#BASE URL AND KEY\n",
    "#Use the requests library\n",
    "import requests as r\n",
    "#\n",
    "import pandas as pd\n",
    "#Set the base URL.\n",
    "base_url = 'http://localhost:8080/api/'\n",
    "#Add a key for the request hhttps://api.edap-cluster.com/useeio/api/eaders. No keys are needed by default, so it's blank\n",
    "api_headers = {}"
   ]
  },
  {
   "cell_type": "code",
   "execution_count": 5,
   "metadata": {},
   "outputs": [
    {
     "data": {
      "text/plain": [
       "[{'id': 'ExampleModel',\n  'name': 'Example Model',\n  'location': 'US',\n  'description': 'Example IO model from the IO-Model-Builder'}]"
      ]
     },
     "execution_count": 5,
     "metadata": {},
     "output_type": "execute_result"
    }
   ],
   "source": [
    "#AVAILABLE MODELS\n",
    "#Show the available models in the native JSON output\n",
    "models = r.get(base_url+'models',headers=api_headers)\n",
    "models_json = models.json()\n",
    "models_json"
   ]
  },
  {
   "cell_type": "markdown",
   "metadata": {},
   "source": [
    "#Use the first available model\n",
    "model_name = models_json[0]['id']\n",
    "print('The first model name is ' + str(model_name) + '.')"
   ]
  },
  {
   "cell_type": "code",
   "execution_count": 7,
   "metadata": {},
   "outputs": [
    {
     "name": "stdout",
     "output_type": "stream",
     "text": [
      "The first model name is ExampleModel.\n"
     ]
    }
   ],
   "source": [
    "#MODEL NAME\n",
    "#Use the first available model\n",
    "model_name = models_json[0]['id']\n",
    "print('The first model name is ' + str(model_name) + '.')"
   ]
  },
  {
   "cell_type": "code",
   "execution_count": 8,
   "metadata": {},
   "outputs": [
    {
     "name": "stdout",
     "output_type": "stream",
     "text": [
      "The ExampleModel model has 6 sectors.\nThe first sector name is \"Agriculture & Forestry\" with an ID of \"1/agriculture & forestry/us\"\n"
     ]
    }
   ],
   "source": [
    "#MODEL SECTORS\n",
    "#Get the sectors\n",
    "model_sectors = r.get(base_url+model_name+'/sectors',headers=api_headers)\n",
    "model_sectors_json = model_sectors.json()\n",
    "model_sector_ids = []\n",
    "for i in model_sectors_json:\n",
    "    model_sector_ids.append(i['id'])\n",
    "first_sector_id = model_sector_ids[0]\n",
    "first_sector_name = model_sectors_json[0]['name']\n",
    "print('The '+ model_name +' model has ' + str(len(model_sectors_json)) + ' sectors.')\n",
    "print('The first sector name is \\\"' + first_sector_name + '\\\" with an ID of \\\"' + first_sector_id + '\\\"')"
   ]
  },
  {
   "cell_type": "code",
   "execution_count": 5,
   "metadata": {},
   "outputs": [
    {
     "name": "stdout",
     "output_type": "stream",
     "text": [
      "Table. Top 10 direct inputs into Agriculture & Forestry.\n"
     ]
    },
    {
     "data": {
      "text/html": [
       "<div>\n",
       "<style scoped>\n",
       "    .dataframe tbody tr th:only-of-type {\n",
       "        vertical-align: middle;\n",
       "    }\n",
       "\n",
       "    .dataframe tbody tr th {\n",
       "        vertical-align: top;\n",
       "    }\n",
       "\n",
       "    .dataframe thead th {\n",
       "        text-align: right;\n",
       "    }\n",
       "</style>\n",
       "<table border=\"1\" class=\"dataframe\">\n",
       "  <thead>\n",
       "    <tr style=\"text-align: right;\">\n",
       "      <th></th>\n",
       "      <th>1/agriculture &amp; forestry/us</th>\n",
       "    </tr>\n",
       "  </thead>\n",
       "  <tbody>\n",
       "    <tr>\n",
       "      <th>3/construction &amp; manufacturing/us</th>\n",
       "      <td>0.210018</td>\n",
       "    </tr>\n",
       "    <tr>\n",
       "      <th>1/agriculture &amp; forestry/us</th>\n",
       "      <td>0.204289</td>\n",
       "    </tr>\n",
       "    <tr>\n",
       "      <th>4/trade &amp; transport/us</th>\n",
       "      <td>0.092089</td>\n",
       "    </tr>\n",
       "    <tr>\n",
       "      <th>5/information &amp; finance &amp; services/us</th>\n",
       "      <td>0.066902</td>\n",
       "    </tr>\n",
       "    <tr>\n",
       "      <th>2/mining &amp; utilities/us</th>\n",
       "      <td>0.021635</td>\n",
       "    </tr>\n",
       "    <tr>\n",
       "      <th>6/government &amp; other/us</th>\n",
       "      <td>0.001980</td>\n",
       "    </tr>\n",
       "  </tbody>\n",
       "</table>\n",
       "</div>"
      ],
      "text/plain": [
       "                                       1/agriculture & forestry/us\n",
       "3/construction & manufacturing/us                         0.210018\n",
       "1/agriculture & forestry/us                               0.204289\n",
       "4/trade & transport/us                                    0.092089\n",
       "5/information & finance & services/us                     0.066902\n",
       "2/mining & utilities/us                                   0.021635\n",
       "6/government & other/us                                   0.001980"
      ]
     },
     "execution_count": 5,
     "metadata": {},
     "output_type": "execute_result"
    }
   ],
   "source": [
    "#DIRECT REQUIREMENT MATRIX\n",
    "#Get the first column of the direct requirement matrix\n",
    "A0_response = r.get(base_url+model_name+'/matrix/A?col=0',headers=api_headers)\n",
    "A0 = A0_response.json()\n",
    "#Convert it to a dataframe\n",
    "A0_df = pd.DataFrame(A0,columns=[first_sector_id],index=model_sector_ids)\n",
    "#Sort it by descending order of requirements\n",
    "A0_df = A0_df.sort_values(by=first_sector_id,ascending=False)\n",
    "print('Table. Top 10 direct inputs into ' + first_sector_name +'.')\n",
    "A0_df.head(10)"
   ]
  },
  {
   "cell_type": "code",
   "execution_count": 6,
   "metadata": {},
   "outputs": [
    {
     "name": "stdout",
     "output_type": "stream",
     "text": [
      "Table. Top 10 total requirements into Agriculture & Forestry.\n"
     ]
    },
    {
     "data": {
      "text/html": [
       "<div>\n",
       "<style scoped>\n",
       "    .dataframe tbody tr th:only-of-type {\n",
       "        vertical-align: middle;\n",
       "    }\n",
       "\n",
       "    .dataframe tbody tr th {\n",
       "        vertical-align: top;\n",
       "    }\n",
       "\n",
       "    .dataframe thead th {\n",
       "        text-align: right;\n",
       "    }\n",
       "</style>\n",
       "<table border=\"1\" class=\"dataframe\">\n",
       "  <thead>\n",
       "    <tr style=\"text-align: right;\">\n",
       "      <th></th>\n",
       "      <th>1/agriculture &amp; forestry/us</th>\n",
       "    </tr>\n",
       "  </thead>\n",
       "  <tbody>\n",
       "    <tr>\n",
       "      <th>1/agriculture &amp; forestry/us</th>\n",
       "      <td>1.278440</td>\n",
       "    </tr>\n",
       "    <tr>\n",
       "      <th>3/construction &amp; manufacturing/us</th>\n",
       "      <td>0.451877</td>\n",
       "    </tr>\n",
       "    <tr>\n",
       "      <th>5/information &amp; finance &amp; services/us</th>\n",
       "      <td>0.238329</td>\n",
       "    </tr>\n",
       "    <tr>\n",
       "      <th>4/trade &amp; transport/us</th>\n",
       "      <td>0.178166</td>\n",
       "    </tr>\n",
       "    <tr>\n",
       "      <th>2/mining &amp; utilities/us</th>\n",
       "      <td>0.086659</td>\n",
       "    </tr>\n",
       "    <tr>\n",
       "      <th>6/government &amp; other/us</th>\n",
       "      <td>0.006564</td>\n",
       "    </tr>\n",
       "  </tbody>\n",
       "</table>\n",
       "</div>"
      ],
      "text/plain": [
       "                                       1/agriculture & forestry/us\n",
       "1/agriculture & forestry/us                               1.278440\n",
       "3/construction & manufacturing/us                         0.451877\n",
       "5/information & finance & services/us                     0.238329\n",
       "4/trade & transport/us                                    0.178166\n",
       "2/mining & utilities/us                                   0.086659\n",
       "6/government & other/us                                   0.006564"
      ]
     },
     "execution_count": 6,
     "metadata": {},
     "output_type": "execute_result"
    }
   ],
   "source": [
    "#TOTAL REQUIREMENT MATRIX\n",
    "#Get the first column of the total requirement matrix\n",
    "L0_response = r.get(base_url+model_name+'/matrix/L?col=0',headers=api_headers)\n",
    "L0 = L0_response.json()\n",
    "#Convert it to a dataframe\n",
    "L0_df = pd.DataFrame(L0,columns=[first_sector_id],index=model_sector_ids)\n",
    "#Sort it by descending order of requirements\n",
    "L0_df = L0_df.sort_values(by=first_sector_id,ascending=False)\n",
    "print('Table. Top 10 total requirements into ' + first_sector_name +'.')\n",
    "L0_df.head(10)"
   ]
  },
  {
   "cell_type": "code",
   "execution_count": 7,
   "metadata": {},
   "outputs": [
    {
     "name": "stdout",
     "output_type": "stream",
     "text": [
      "The ExampleModel model has 15 elementary flows.\n",
      "The first flow name is \"Carbon dioxide\" with an ID of \"air/unspecified/carbon dioxide/kg\".\n"
     ]
    }
   ],
   "source": [
    "#ELEMENTARY FLOWS\n",
    "model_flows = r.get(base_url+model_name+'/flows',headers=api_headers)\n",
    "model_flows_json = model_flows.json()\n",
    "first_flow_id = model_flows_json[0]['id']\n",
    "first_flow_name = model_flows_json[0]['flowable']\n",
    "model_flow_ids = []\n",
    "for i in model_flows_json:\n",
    "    model_flow_ids.append(i['id'])\n",
    "print('The '+ model_name +' model has ' + str(len(model_flows_json)) + ' elementary flows.')\n",
    "print('The first flow name is \\\"' + first_flow_name + '\\\" with an ID of \\\"' + first_flow_id + '\\\".')"
   ]
  },
  {
   "cell_type": "code",
   "execution_count": 8,
   "metadata": {
    "scrolled": true
   },
   "outputs": [
    {
     "name": "stdout",
     "output_type": "stream",
     "text": [
      "Table. Top 5 direct intensities (unit/$) of Carbon dioxide with DQ scores.\n"
     ]
    },
    {
     "data": {
      "text/html": [
       "<div>\n",
       "<style scoped>\n",
       "    .dataframe tbody tr th:only-of-type {\n",
       "        vertical-align: middle;\n",
       "    }\n",
       "\n",
       "    .dataframe tbody tr th {\n",
       "        vertical-align: top;\n",
       "    }\n",
       "\n",
       "    .dataframe thead th {\n",
       "        text-align: right;\n",
       "    }\n",
       "</style>\n",
       "<table border=\"1\" class=\"dataframe\">\n",
       "  <thead>\n",
       "    <tr style=\"text-align: right;\">\n",
       "      <th></th>\n",
       "      <th>unit/$ gross output</th>\n",
       "      <th>(Reliability,Time Corr,Geo Corr,Tech Corr,Data Collection)</th>\n",
       "    </tr>\n",
       "  </thead>\n",
       "  <tbody>\n",
       "    <tr>\n",
       "      <th>3/construction &amp; manufacturing/us</th>\n",
       "      <td>29.836795</td>\n",
       "      <td>(3,1,4,3,1)</td>\n",
       "    </tr>\n",
       "    <tr>\n",
       "      <th>6/government &amp; other/us</th>\n",
       "      <td>11.213541</td>\n",
       "      <td>(3,4,4,2,5)</td>\n",
       "    </tr>\n",
       "    <tr>\n",
       "      <th>2/mining &amp; utilities/us</th>\n",
       "      <td>9.297182</td>\n",
       "      <td>(5,3,1,5,2)</td>\n",
       "    </tr>\n",
       "    <tr>\n",
       "      <th>4/trade &amp; transport/us</th>\n",
       "      <td>5.892112</td>\n",
       "      <td>(2,3,5,5,4)</td>\n",
       "    </tr>\n",
       "    <tr>\n",
       "      <th>5/information &amp; finance &amp; services/us</th>\n",
       "      <td>1.691867</td>\n",
       "      <td>(2,4,3,2,3)</td>\n",
       "    </tr>\n",
       "  </tbody>\n",
       "</table>\n",
       "</div>"
      ],
      "text/plain": [
       "                                       unit/$ gross output  \\\n",
       "3/construction & manufacturing/us                29.836795   \n",
       "6/government & other/us                          11.213541   \n",
       "2/mining & utilities/us                           9.297182   \n",
       "4/trade & transport/us                            5.892112   \n",
       "5/information & finance & services/us             1.691867   \n",
       "\n",
       "                                      (Reliability,Time Corr,Geo Corr,Tech Corr,Data Collection)  \n",
       "3/construction & manufacturing/us                                            (3,1,4,3,1)          \n",
       "6/government & other/us                                                      (3,4,4,2,5)          \n",
       "2/mining & utilities/us                                                      (5,3,1,5,2)          \n",
       "4/trade & transport/us                                                       (2,3,5,5,4)          \n",
       "5/information & finance & services/us                                        (2,4,3,2,3)          "
      ]
     },
     "execution_count": 8,
     "metadata": {},
     "output_type": "execute_result"
    }
   ],
   "source": [
    "#RESOURCE USE\n",
    "#Query the first row satellite table matrix, B. This provides the resource use or emission intensities for all sectors for\n",
    "#the first elementary flow in the model\n",
    "B0_response = r.get(base_url+model_name+'/matrix/B?row=0',headers=api_headers)\n",
    "B0 = B0_response.json()\n",
    "#Query the data quality score for the accompanying satellite table values from B_dqi\n",
    "Bdqi0_response = r.get(base_url+model_name+'/matrix/B_dqi?row=0',headers=api_headers)\n",
    "try:\n",
    "    Bdqi0 = Bdqi0_response.json()\n",
    "except:\n",
    "    Bdqi0 = [0]*len(B0)\n",
    "#Assign a name to the intensities\n",
    "Bvaluename = 'unit/$ gross output'\n",
    "#Assign a more readable name for data quality scores\n",
    "dqname = '(Reliability,Time Corr,Geo Corr,Tech Corr,Data Collection)'\n",
    "\n",
    "#Convert it to a dataframe\n",
    "B0_df = pd.DataFrame({Bvaluename:B0,dqname:Bdqi0},index=model_sector_ids)\n",
    "#Sort it by descending order of intensities\n",
    "B0_df = B0_df.sort_values(by=Bvaluename,ascending=False)\n",
    "print('Table. Top 5 direct intensities (unit/$) of ' + first_flow_name +' with DQ scores.')\n",
    "B0_df.head(5)"
   ]
  },
  {
   "cell_type": "code",
   "execution_count": 9,
   "metadata": {},
   "outputs": [
    {
     "name": "stdout",
     "output_type": "stream",
     "text": [
      "The ExampleModel model has 4 indicators. The names are:\n",
      "['Smog Formation- SFP', 'Greenhouse Gases', 'Human Health - non-carcenogenic', 'Human Health Tox-Carcinogenic']\n"
     ]
    }
   ],
   "source": [
    "#INDICATORS\n",
    "model_indictrs_response = r.get(base_url+model_name+'/indicators',headers=api_headers)\n",
    "model_indictrs_json = model_indictrs_response.json()\n",
    "first_indictr_id = model_indictrs_json[0]['id']\n",
    "model_indictrs_names = []\n",
    "model_indictrs_ids = []\n",
    "for i in model_indictrs_json:\n",
    "    model_indictrs_names.append(i['name'])\n",
    "    model_indictrs_ids.append(i['id'])\n",
    "print('The '+ model_name +' model has ' + str(len(model_indictrs_json)) + ' indicators. The names are:')\n",
    "print(model_indictrs_names)"
   ]
  },
  {
   "cell_type": "code",
   "execution_count": 10,
   "metadata": {},
   "outputs": [
    {
     "name": "stdout",
     "output_type": "stream",
     "text": [
      "Table. Top 5 characterization factors for Smog Formation- SFP.\n"
     ]
    },
    {
     "data": {
      "text/html": [
       "<div>\n",
       "<style scoped>\n",
       "    .dataframe tbody tr th:only-of-type {\n",
       "        vertical-align: middle;\n",
       "    }\n",
       "\n",
       "    .dataframe tbody tr th {\n",
       "        vertical-align: top;\n",
       "    }\n",
       "\n",
       "    .dataframe thead th {\n",
       "        text-align: right;\n",
       "    }\n",
       "</style>\n",
       "<table border=\"1\" class=\"dataframe\">\n",
       "  <thead>\n",
       "    <tr style=\"text-align: right;\">\n",
       "      <th></th>\n",
       "      <th>SMOG</th>\n",
       "    </tr>\n",
       "  </thead>\n",
       "  <tbody>\n",
       "    <tr>\n",
       "      <th>air/unspecified/methane/kg</th>\n",
       "      <td>0.039169</td>\n",
       "    </tr>\n",
       "    <tr>\n",
       "      <th>air/unspecified/ethane, 1,1,1,2-tetrafluoro-, hfc-134a/kg</th>\n",
       "      <td>0.018716</td>\n",
       "    </tr>\n",
       "    <tr>\n",
       "      <th>air/unspecified/carbon dioxide/kg</th>\n",
       "      <td>0.000000</td>\n",
       "    </tr>\n",
       "    <tr>\n",
       "      <th>air/unspecified/dinitrogen monoxide/kg</th>\n",
       "      <td>0.000000</td>\n",
       "    </tr>\n",
       "    <tr>\n",
       "      <th>air/unspecified/ethane, pentafluoro-, hfc-125/kg</th>\n",
       "      <td>0.000000</td>\n",
       "    </tr>\n",
       "  </tbody>\n",
       "</table>\n",
       "</div>"
      ],
      "text/plain": [
       "                                                        SMOG\n",
       "air/unspecified/methane/kg                          0.039169\n",
       "air/unspecified/ethane, 1,1,1,2-tetrafluoro-, h...  0.018716\n",
       "air/unspecified/carbon dioxide/kg                   0.000000\n",
       "air/unspecified/dinitrogen monoxide/kg              0.000000\n",
       "air/unspecified/ethane, pentafluoro-, hfc-125/kg    0.000000"
      ]
     },
     "execution_count": 10,
     "metadata": {},
     "output_type": "execute_result"
    }
   ],
   "source": [
    "#CHARACTERIZATION FACTORS\n",
    "#Query the first row of the characterization factor(CF) matrix, B. This provides the CFs for the first indicator\n",
    "C0_response = r.get(base_url+model_name+'/matrix/C?row=0',headers=api_headers)\n",
    "C0 = C0_response.json()\n",
    "#Convert it to a dataframe\n",
    "C0_df = pd.DataFrame(C0,columns=[first_indictr_id],index=model_flow_ids)\n",
    "#Sort it by descending order\n",
    "C0_df = C0_df.sort_values(by=first_indictr_id,ascending=False)\n",
    "print('Table. Top 5 characterization factors for ' + model_indictrs_names[0] +'.')\n",
    "C0_df.head(5)"
   ]
  },
  {
   "cell_type": "code",
   "execution_count": 11,
   "metadata": {},
   "outputs": [
    {
     "name": "stdout",
     "output_type": "stream",
     "text": [
      "Table. Top 10 direct sector impacts per dollar for Smog Formation- SFP with DQ scores.\n"
     ]
    },
    {
     "data": {
      "text/html": [
       "<div>\n",
       "<style scoped>\n",
       "    .dataframe tbody tr th:only-of-type {\n",
       "        vertical-align: middle;\n",
       "    }\n",
       "\n",
       "    .dataframe tbody tr th {\n",
       "        vertical-align: top;\n",
       "    }\n",
       "\n",
       "    .dataframe thead th {\n",
       "        text-align: right;\n",
       "    }\n",
       "</style>\n",
       "<table border=\"1\" class=\"dataframe\">\n",
       "  <thead>\n",
       "    <tr style=\"text-align: right;\">\n",
       "      <th></th>\n",
       "      <th>SMOG</th>\n",
       "      <th>(Reliability,Time Corr,Geo Corr,Tech Corr,Data Collection)</th>\n",
       "    </tr>\n",
       "  </thead>\n",
       "  <tbody>\n",
       "    <tr>\n",
       "      <th>1/agriculture &amp; forestry/us</th>\n",
       "      <td>0.006826</td>\n",
       "      <td>(2,5,1,3,4)</td>\n",
       "    </tr>\n",
       "    <tr>\n",
       "      <th>2/mining &amp; utilities/us</th>\n",
       "      <td>0.004270</td>\n",
       "      <td>(2,3,5,3,1)</td>\n",
       "    </tr>\n",
       "    <tr>\n",
       "      <th>4/trade &amp; transport/us</th>\n",
       "      <td>0.002867</td>\n",
       "      <td>(1,5,3,4,1)</td>\n",
       "    </tr>\n",
       "    <tr>\n",
       "      <th>5/information &amp; finance &amp; services/us</th>\n",
       "      <td>0.001986</td>\n",
       "      <td>(3,3,5,4,4)</td>\n",
       "    </tr>\n",
       "    <tr>\n",
       "      <th>3/construction &amp; manufacturing/us</th>\n",
       "      <td>0.001014</td>\n",
       "      <td>(1,3,5,2,1)</td>\n",
       "    </tr>\n",
       "    <tr>\n",
       "      <th>6/government &amp; other/us</th>\n",
       "      <td>0.000007</td>\n",
       "      <td>(1,3,4,4,1)</td>\n",
       "    </tr>\n",
       "  </tbody>\n",
       "</table>\n",
       "</div>"
      ],
      "text/plain": [
       "                                           SMOG  \\\n",
       "1/agriculture & forestry/us            0.006826   \n",
       "2/mining & utilities/us                0.004270   \n",
       "4/trade & transport/us                 0.002867   \n",
       "5/information & finance & services/us  0.001986   \n",
       "3/construction & manufacturing/us      0.001014   \n",
       "6/government & other/us                0.000007   \n",
       "\n",
       "                                      (Reliability,Time Corr,Geo Corr,Tech Corr,Data Collection)  \n",
       "1/agriculture & forestry/us                                                  (2,5,1,3,4)          \n",
       "2/mining & utilities/us                                                      (2,3,5,3,1)          \n",
       "4/trade & transport/us                                                       (1,5,3,4,1)          \n",
       "5/information & finance & services/us                                        (3,3,5,4,4)          \n",
       "3/construction & manufacturing/us                                            (1,3,5,2,1)          \n",
       "6/government & other/us                                                      (1,3,4,4,1)          "
      ]
     },
     "execution_count": 11,
     "metadata": {},
     "output_type": "execute_result"
    }
   ],
   "source": [
    "#DIRECT IMPACTS\n",
    "#Get top direct impacts for first indicator\n",
    "#Query the first row of the direct impacts matrix, D. This provides the direct impacts for the first indicator.\n",
    "D0_response = r.get(base_url+model_name+'/matrix/D?row=0',headers=api_headers)\n",
    "D0 = D0_response.json()\n",
    "#Get the accompanying data quality scores\n",
    "D0dqi_response = r.get(base_url+model_name+'/matrix/D_dqi?row=0',headers=api_headers)\n",
    "try:\n",
    "    D0dqi = D0dqi_response.json()\n",
    "except: \n",
    "    D0dqi = [0]*len(D0)\n",
    "#Convert it to a dataframe\n",
    "D0_df = pd.DataFrame({first_indictr_id:D0,dqname:D0dqi},index=model_sector_ids)\n",
    "#Sort it by descending order\n",
    "D0_df = D0_df.sort_values(by=first_indictr_id,ascending=False)\n",
    "print('Table. Top 10 direct sector impacts per dollar for ' + model_indictrs_names[0] +' with DQ scores.')\n",
    "D0_df.head(10)"
   ]
  },
  {
   "cell_type": "code",
   "execution_count": 12,
   "metadata": {},
   "outputs": [
    {
     "name": "stdout",
     "output_type": "stream",
     "text": [
      "Table. Top 10 life cycle impacts sector impacts per dollar for Smog Formation- SFP.\n"
     ]
    },
    {
     "data": {
      "text/html": [
       "<div>\n",
       "<style scoped>\n",
       "    .dataframe tbody tr th:only-of-type {\n",
       "        vertical-align: middle;\n",
       "    }\n",
       "\n",
       "    .dataframe tbody tr th {\n",
       "        vertical-align: top;\n",
       "    }\n",
       "\n",
       "    .dataframe thead th {\n",
       "        text-align: right;\n",
       "    }\n",
       "</style>\n",
       "<table border=\"1\" class=\"dataframe\">\n",
       "  <thead>\n",
       "    <tr style=\"text-align: right;\">\n",
       "      <th></th>\n",
       "      <th>SMOG</th>\n",
       "      <th>(Reliability,Time Corr,Geo Corr,Tech Corr,Data Collection)</th>\n",
       "    </tr>\n",
       "  </thead>\n",
       "  <tbody>\n",
       "    <tr>\n",
       "      <th>1/agriculture &amp; forestry/us</th>\n",
       "      <td>0.010540</td>\n",
       "      <td>(2,5,2,3,4)</td>\n",
       "    </tr>\n",
       "    <tr>\n",
       "      <th>2/mining &amp; utilities/us</th>\n",
       "      <td>0.005967</td>\n",
       "      <td>(2,3,5,3,1)</td>\n",
       "    </tr>\n",
       "    <tr>\n",
       "      <th>4/trade &amp; transport/us</th>\n",
       "      <td>0.004290</td>\n",
       "      <td>(1,5,3,4,2)</td>\n",
       "    </tr>\n",
       "    <tr>\n",
       "      <th>3/construction &amp; manufacturing/us</th>\n",
       "      <td>0.003840</td>\n",
       "      <td>(2,3,4,3,2)</td>\n",
       "    </tr>\n",
       "    <tr>\n",
       "      <th>5/information &amp; finance &amp; services/us</th>\n",
       "      <td>0.003391</td>\n",
       "      <td>(3,3,5,4,4)</td>\n",
       "    </tr>\n",
       "    <tr>\n",
       "      <th>6/government &amp; other/us</th>\n",
       "      <td>0.001333</td>\n",
       "      <td>(2,3,4,3,3)</td>\n",
       "    </tr>\n",
       "  </tbody>\n",
       "</table>\n",
       "</div>"
      ],
      "text/plain": [
       "                                           SMOG  \\\n",
       "1/agriculture & forestry/us            0.010540   \n",
       "2/mining & utilities/us                0.005967   \n",
       "4/trade & transport/us                 0.004290   \n",
       "3/construction & manufacturing/us      0.003840   \n",
       "5/information & finance & services/us  0.003391   \n",
       "6/government & other/us                0.001333   \n",
       "\n",
       "                                      (Reliability,Time Corr,Geo Corr,Tech Corr,Data Collection)  \n",
       "1/agriculture & forestry/us                                                  (2,5,2,3,4)          \n",
       "2/mining & utilities/us                                                      (2,3,5,3,1)          \n",
       "4/trade & transport/us                                                       (1,5,3,4,2)          \n",
       "3/construction & manufacturing/us                                            (2,3,4,3,2)          \n",
       "5/information & finance & services/us                                        (3,3,5,4,4)          \n",
       "6/government & other/us                                                      (2,3,4,3,3)          "
      ]
     },
     "execution_count": 12,
     "metadata": {},
     "output_type": "execute_result"
    }
   ],
   "source": [
    "#LIFE CYCLE IMPACTS PER DOLLAR\n",
    "#Get top life cycle impacts per $ for first indicator\n",
    "N0_response = r.get(base_url+model_name+'/matrix/N?row=0',headers=api_headers)\n",
    "N0 = N0_response.json()\n",
    "N0dqi_response = r.get(base_url+model_name+'/matrix/N_dqi?row=0',headers=api_headers)\n",
    "try:\n",
    "    N0dqi = N0dqi_response.json()\n",
    "except:\n",
    "    N0dqi = [0]*len(N0)\n",
    "#Convert it to a dataframe\n",
    "N0_df = pd.DataFrame({first_indictr_id:N0,dqname:N0dqi},index=model_sector_ids)\n",
    "#Sort it by descending order\n",
    "N0_df = N0_df.sort_values(by=first_indictr_id,ascending=False)\n",
    "print('Table. Top 10 life cycle impacts sector impacts per dollar for ' + model_indictrs_names[0] +'.')\n",
    "N0_df.head(10)"
   ]
  },
  {
   "cell_type": "code",
   "execution_count": 13,
   "metadata": {},
   "outputs": [
    {
     "data": {
      "text/plain": [
       "[{'id': '2016_us_testdemand',\n",
       "  'location': 'US',\n",
       "  'system': 'Full System',\n",
       "  'type': 'TestDemand',\n",
       "  'year': 2016}]"
      ]
     },
     "execution_count": 13,
     "metadata": {},
     "output_type": "execute_result"
    }
   ],
   "source": [
    "#DEMAND VECTORS\n",
    "#See the demand vectors available for the model in their JSON format\n",
    "demands_response = r.get(base_url+model_name+'/demands',headers=api_headers)\n",
    "demands = demands_response.json()\n",
    "demands"
   ]
  },
  {
   "cell_type": "code",
   "execution_count": 14,
   "metadata": {},
   "outputs": [
    {
     "name": "stdout",
     "output_type": "stream",
     "text": [
      "[{'amount': 1.0, 'sector': '3/construction & manufacturing/us'}]\n"
     ]
    }
   ],
   "source": [
    "#DEMAND VECTOR IN NATIVE FORMAT\n",
    "#See the first demand vector in its native format, which has to be created if one wants to calculate the model results with a custom vector\n",
    "first_demand_id = demands[0]['id']\n",
    "first_demand_id\n",
    "y0_response = r.get(base_url+model_name+'/demands/'+first_demand_id,headers=api_headers)\n",
    "y0 = y0_response.json()\n",
    "if len(y0)>5:\n",
    "    print(y0[0:5])\n",
    "else:\n",
    "    print(y0)"
   ]
  },
  {
   "cell_type": "code",
   "execution_count": 15,
   "metadata": {},
   "outputs": [
    {
     "name": "stdout",
     "output_type": "stream",
     "text": [
      "Table. Top 10 sectors ranked by demand 2016_us_testdemand.\n"
     ]
    },
    {
     "data": {
      "text/html": [
       "<div>\n",
       "<style scoped>\n",
       "    .dataframe tbody tr th:only-of-type {\n",
       "        vertical-align: middle;\n",
       "    }\n",
       "\n",
       "    .dataframe tbody tr th {\n",
       "        vertical-align: top;\n",
       "    }\n",
       "\n",
       "    .dataframe thead th {\n",
       "        text-align: right;\n",
       "    }\n",
       "</style>\n",
       "<table border=\"1\" class=\"dataframe\">\n",
       "  <thead>\n",
       "    <tr style=\"text-align: right;\">\n",
       "      <th></th>\n",
       "      <th>amount</th>\n",
       "      <th>sector</th>\n",
       "    </tr>\n",
       "  </thead>\n",
       "  <tbody>\n",
       "    <tr>\n",
       "      <th>0</th>\n",
       "      <td>1.0</td>\n",
       "      <td>3/construction &amp; manufacturing/us</td>\n",
       "    </tr>\n",
       "  </tbody>\n",
       "</table>\n",
       "</div>"
      ],
      "text/plain": [
       "   amount                             sector\n",
       "0     1.0  3/construction & manufacturing/us"
      ]
     },
     "execution_count": 15,
     "metadata": {},
     "output_type": "execute_result"
    }
   ],
   "source": [
    "#SECTORS RANKED BY DEMAND\n",
    "#See the top 10 sectors ranked by demand for the first demand vector\n",
    "y0_df = pd.DataFrame(y0)\n",
    "y0_df = y0_df.sort_values(by='amount',ascending=False)\n",
    "print('Table. Top 10 sectors ranked by demand ' + first_demand_id  +'.')\n",
    "y0_df.head(10)"
   ]
  },
  {
   "cell_type": "code",
   "execution_count": 16,
   "metadata": {},
   "outputs": [
    {
     "name": "stdout",
     "output_type": "stream",
     "text": [
      "Top ten sectors by direct perspective impact for indicator Smog Formation- SFP using demand vector 2016_us_testdemand, with 4 additional indicator results presented.\n"
     ]
    },
    {
     "data": {
      "text/html": [
       "<div>\n",
       "<style scoped>\n",
       "    .dataframe tbody tr th:only-of-type {\n",
       "        vertical-align: middle;\n",
       "    }\n",
       "\n",
       "    .dataframe tbody tr th {\n",
       "        vertical-align: top;\n",
       "    }\n",
       "\n",
       "    .dataframe thead th {\n",
       "        text-align: right;\n",
       "    }\n",
       "</style>\n",
       "<table border=\"1\" class=\"dataframe\">\n",
       "  <thead>\n",
       "    <tr style=\"text-align: right;\">\n",
       "      <th></th>\n",
       "      <th>SMOG</th>\n",
       "      <th>GHG</th>\n",
       "      <th>HTOX-NC</th>\n",
       "      <th>HTOX-HC</th>\n",
       "    </tr>\n",
       "  </thead>\n",
       "  <tbody>\n",
       "    <tr>\n",
       "      <th>3/construction &amp; manufacturing/us</th>\n",
       "      <td>1.591011e-03</td>\n",
       "      <td>52.550475</td>\n",
       "      <td>3.133217e-12</td>\n",
       "      <td>8.600987e-12</td>\n",
       "    </tr>\n",
       "    <tr>\n",
       "      <th>2/mining &amp; utilities/us</th>\n",
       "      <td>7.595640e-04</td>\n",
       "      <td>2.218259</td>\n",
       "      <td>3.893705e-16</td>\n",
       "      <td>1.068860e-15</td>\n",
       "    </tr>\n",
       "    <tr>\n",
       "      <th>5/information &amp; finance &amp; services/us</th>\n",
       "      <td>5.325586e-04</td>\n",
       "      <td>0.832723</td>\n",
       "      <td>4.795932e-14</td>\n",
       "      <td>1.316530e-13</td>\n",
       "    </tr>\n",
       "    <tr>\n",
       "      <th>1/agriculture &amp; forestry/us</th>\n",
       "      <td>5.031686e-04</td>\n",
       "      <td>-2.443094</td>\n",
       "      <td>4.755755e-17</td>\n",
       "      <td>1.305501e-16</td>\n",
       "    </tr>\n",
       "    <tr>\n",
       "      <th>4/trade &amp; transport/us</th>\n",
       "      <td>4.533499e-04</td>\n",
       "      <td>1.262775</td>\n",
       "      <td>4.845930e-14</td>\n",
       "      <td>1.330255e-13</td>\n",
       "    </tr>\n",
       "    <tr>\n",
       "      <th>6/government &amp; other/us</th>\n",
       "      <td>5.889780e-08</td>\n",
       "      <td>0.091000</td>\n",
       "      <td>3.671321e-17</td>\n",
       "      <td>1.007813e-16</td>\n",
       "    </tr>\n",
       "  </tbody>\n",
       "</table>\n",
       "</div>"
      ],
      "text/plain": [
       "                                               SMOG        GHG       HTOX-NC  \\\n",
       "3/construction & manufacturing/us      1.591011e-03  52.550475  3.133217e-12   \n",
       "2/mining & utilities/us                7.595640e-04   2.218259  3.893705e-16   \n",
       "5/information & finance & services/us  5.325586e-04   0.832723  4.795932e-14   \n",
       "1/agriculture & forestry/us            5.031686e-04  -2.443094  4.755755e-17   \n",
       "4/trade & transport/us                 4.533499e-04   1.262775  4.845930e-14   \n",
       "6/government & other/us                5.889780e-08   0.091000  3.671321e-17   \n",
       "\n",
       "                                            HTOX-HC  \n",
       "3/construction & manufacturing/us      8.600987e-12  \n",
       "2/mining & utilities/us                1.068860e-15  \n",
       "5/information & finance & services/us  1.316530e-13  \n",
       "1/agriculture & forestry/us            1.305501e-16  \n",
       "4/trade & transport/us                 1.330255e-13  \n",
       "6/government & other/us                1.007813e-16  "
      ]
     },
     "execution_count": 16,
     "metadata": {},
     "output_type": "execute_result"
    }
   ],
   "source": [
    "#SECTORS IN ROWS. \n",
    "#Use this same demand for a model calculation. Use the direct perspective calculation. \n",
    "#Show a transposed view with indicators in the columns and sectors in the rows\n",
    "data_to_post = {\"perspective\": \"direct\"}\n",
    "data_to_post[\"demand\"] = y0\n",
    "result1_response = r.post(base_url+model_name+'/calculate',headers=api_headers,json=data_to_post)\n",
    "result1 = result1_response.json()\n",
    "result1_df = pd.DataFrame(data=result1['data'],columns=result1['sectors'],index=result1['indicators']).transpose()\n",
    "result1_df = result1_df.sort_values(by=first_indictr_id,ascending=False)\n",
    "print('Top ten sectors by direct perspective impact for indicator '+ model_indictrs_names[0] + ' using demand vector ' +  first_demand_id + ', with 4 additional indicator results presented.')\n",
    "result1_df[model_indictrs_ids[0:5]].head(10)"
   ]
  },
  {
   "cell_type": "code",
   "execution_count": 17,
   "metadata": {},
   "outputs": [
    {
     "name": "stdout",
     "output_type": "stream",
     "text": [
      "Top ten sectors by final perspective impact for indicator Smog Formation- SFP using demand vector 2016_us_testdemand, with 4 additional indicator results presented.\n"
     ]
    },
    {
     "data": {
      "text/html": [
       "<div>\n",
       "<style scoped>\n",
       "    .dataframe tbody tr th:only-of-type {\n",
       "        vertical-align: middle;\n",
       "    }\n",
       "\n",
       "    .dataframe tbody tr th {\n",
       "        vertical-align: top;\n",
       "    }\n",
       "\n",
       "    .dataframe thead th {\n",
       "        text-align: right;\n",
       "    }\n",
       "</style>\n",
       "<table border=\"1\" class=\"dataframe\">\n",
       "  <thead>\n",
       "    <tr style=\"text-align: right;\">\n",
       "      <th></th>\n",
       "      <th>SMOG</th>\n",
       "      <th>GHG</th>\n",
       "      <th>HTOX-NC</th>\n",
       "      <th>HTOX-HC</th>\n",
       "    </tr>\n",
       "  </thead>\n",
       "  <tbody>\n",
       "    <tr>\n",
       "      <th>3/construction &amp; manufacturing/us</th>\n",
       "      <td>0.00384</td>\n",
       "      <td>54.512138</td>\n",
       "      <td>3.230109e-12</td>\n",
       "      <td>8.866966e-12</td>\n",
       "    </tr>\n",
       "    <tr>\n",
       "      <th>1/agriculture &amp; forestry/us</th>\n",
       "      <td>0.00000</td>\n",
       "      <td>0.000000</td>\n",
       "      <td>0.000000e+00</td>\n",
       "      <td>0.000000e+00</td>\n",
       "    </tr>\n",
       "    <tr>\n",
       "      <th>2/mining &amp; utilities/us</th>\n",
       "      <td>0.00000</td>\n",
       "      <td>0.000000</td>\n",
       "      <td>0.000000e+00</td>\n",
       "      <td>0.000000e+00</td>\n",
       "    </tr>\n",
       "    <tr>\n",
       "      <th>4/trade &amp; transport/us</th>\n",
       "      <td>0.00000</td>\n",
       "      <td>0.000000</td>\n",
       "      <td>0.000000e+00</td>\n",
       "      <td>0.000000e+00</td>\n",
       "    </tr>\n",
       "    <tr>\n",
       "      <th>5/information &amp; finance &amp; services/us</th>\n",
       "      <td>0.00000</td>\n",
       "      <td>0.000000</td>\n",
       "      <td>0.000000e+00</td>\n",
       "      <td>0.000000e+00</td>\n",
       "    </tr>\n",
       "    <tr>\n",
       "      <th>6/government &amp; other/us</th>\n",
       "      <td>0.00000</td>\n",
       "      <td>0.000000</td>\n",
       "      <td>0.000000e+00</td>\n",
       "      <td>0.000000e+00</td>\n",
       "    </tr>\n",
       "  </tbody>\n",
       "</table>\n",
       "</div>"
      ],
      "text/plain": [
       "                                          SMOG        GHG       HTOX-NC  \\\n",
       "3/construction & manufacturing/us      0.00384  54.512138  3.230109e-12   \n",
       "1/agriculture & forestry/us            0.00000   0.000000  0.000000e+00   \n",
       "2/mining & utilities/us                0.00000   0.000000  0.000000e+00   \n",
       "4/trade & transport/us                 0.00000   0.000000  0.000000e+00   \n",
       "5/information & finance & services/us  0.00000   0.000000  0.000000e+00   \n",
       "6/government & other/us                0.00000   0.000000  0.000000e+00   \n",
       "\n",
       "                                            HTOX-HC  \n",
       "3/construction & manufacturing/us      8.866966e-12  \n",
       "1/agriculture & forestry/us            0.000000e+00  \n",
       "2/mining & utilities/us                0.000000e+00  \n",
       "4/trade & transport/us                 0.000000e+00  \n",
       "5/information & finance & services/us  0.000000e+00  \n",
       "6/government & other/us                0.000000e+00  "
      ]
     },
     "execution_count": 17,
     "metadata": {},
     "output_type": "execute_result"
    }
   ],
   "source": [
    "#SECTORS IN ROWS - FINAL PERSPECTIVE\n",
    "#Now show the same results with the final perspective\n",
    "data_to_post[\"perspective\"] = \"final\"\n",
    "result2_response = r.post(base_url+model_name+'/calculate',headers=api_headers,json=data_to_post)\n",
    "result2 = result2_response.json()\n",
    "result2_df = pd.DataFrame(data=result2['data'],columns=result2['sectors'],index=result2['indicators']).transpose()\n",
    "result2_df = result2_df.sort_values(by=first_indictr_id,ascending=False)\n",
    "print('Top ten sectors by final perspective impact for indicator '+ model_indictrs_names[0] + ' using demand vector ' +  first_demand_id + ', with 4 additional indicator results presented.')\n",
    "result2_df[model_indictrs_ids[0:5]].head(10)"
   ]
  },
  {
   "cell_type": "code",
   "execution_count": 18,
   "metadata": {},
   "outputs": [
    {
     "data": {
      "text/plain": [
       "{'perspective': 'direct',\n",
       " 'demand': [{'sector': '1/agriculture & forestry/us', 'amount': 1000000.0}]}"
      ]
     },
     "execution_count": 18,
     "metadata": {},
     "output_type": "execute_result"
    }
   ],
   "source": [
    "#DEMAND VECTOR FOR 1 MILLION\n",
    "#In place of the first available demand vector, prepare a demand vector for 1 millon USD demand for the first model sector\n",
    "#Show the revised json object to be posted\n",
    "y1 = {}\n",
    "y1[\"sector\"] = first_sector_id\n",
    "y1[\"amount\"] = 1E6\n",
    "data_to_post[\"demand\"] = [y1]\n",
    "data_to_post[\"perspective\"] = \"direct\"\n",
    "data_to_post"
   ]
  },
  {
   "cell_type": "code",
   "execution_count": 19,
   "metadata": {},
   "outputs": [
    {
     "name": "stdout",
     "output_type": "stream",
     "text": [
      "Top ten sectors by direct perspective impact for indicator Smog Formation- SFP for 1 M USD demand for Agriculture & Forestry, with 4 additional indicator results presented.\n"
     ]
    },
    {
     "data": {
      "text/html": [
       "<div>\n",
       "<style scoped>\n",
       "    .dataframe tbody tr th:only-of-type {\n",
       "        vertical-align: middle;\n",
       "    }\n",
       "\n",
       "    .dataframe tbody tr th {\n",
       "        vertical-align: top;\n",
       "    }\n",
       "\n",
       "    .dataframe thead th {\n",
       "        text-align: right;\n",
       "    }\n",
       "</style>\n",
       "<table border=\"1\" class=\"dataframe\">\n",
       "  <thead>\n",
       "    <tr style=\"text-align: right;\">\n",
       "      <th></th>\n",
       "      <th>SMOG</th>\n",
       "      <th>GHG</th>\n",
       "      <th>HTOX-NC</th>\n",
       "      <th>HTOX-HC</th>\n",
       "    </tr>\n",
       "  </thead>\n",
       "  <tbody>\n",
       "    <tr>\n",
       "      <th>1/agriculture &amp; forestry/us</th>\n",
       "      <td>8727.209162</td>\n",
       "      <td>-4.237425e+07</td>\n",
       "      <td>8.248620e-10</td>\n",
       "      <td>2.264327e-09</td>\n",
       "    </tr>\n",
       "    <tr>\n",
       "      <th>4/trade &amp; transport/us</th>\n",
       "      <td>510.853977</td>\n",
       "      <td>1.422948e+06</td>\n",
       "      <td>5.460600e-08</td>\n",
       "      <td>1.498988e-07</td>\n",
       "    </tr>\n",
       "    <tr>\n",
       "      <th>5/information &amp; finance &amp; services/us</th>\n",
       "      <td>473.426222</td>\n",
       "      <td>7.402623e+05</td>\n",
       "      <td>4.263418e-08</td>\n",
       "      <td>1.170350e-07</td>\n",
       "    </tr>\n",
       "    <tr>\n",
       "      <th>3/construction &amp; manufacturing/us</th>\n",
       "      <td>458.064295</td>\n",
       "      <td>1.512968e+07</td>\n",
       "      <td>9.020770e-07</td>\n",
       "      <td>2.476290e-06</td>\n",
       "    </tr>\n",
       "    <tr>\n",
       "      <th>2/mining &amp; utilities/us</th>\n",
       "      <td>370.063998</td>\n",
       "      <td>1.080748e+06</td>\n",
       "      <td>1.897036e-10</td>\n",
       "      <td>5.207549e-10</td>\n",
       "    </tr>\n",
       "    <tr>\n",
       "      <th>6/government &amp; other/us</th>\n",
       "      <td>0.048109</td>\n",
       "      <td>7.433061e+04</td>\n",
       "      <td>2.998807e-11</td>\n",
       "      <td>8.232018e-11</td>\n",
       "    </tr>\n",
       "  </tbody>\n",
       "</table>\n",
       "</div>"
      ],
      "text/plain": [
       "                                              SMOG           GHG  \\\n",
       "1/agriculture & forestry/us            8727.209162 -4.237425e+07   \n",
       "4/trade & transport/us                  510.853977  1.422948e+06   \n",
       "5/information & finance & services/us   473.426222  7.402623e+05   \n",
       "3/construction & manufacturing/us       458.064295  1.512968e+07   \n",
       "2/mining & utilities/us                 370.063998  1.080748e+06   \n",
       "6/government & other/us                   0.048109  7.433061e+04   \n",
       "\n",
       "                                            HTOX-NC       HTOX-HC  \n",
       "1/agriculture & forestry/us            8.248620e-10  2.264327e-09  \n",
       "4/trade & transport/us                 5.460600e-08  1.498988e-07  \n",
       "5/information & finance & services/us  4.263418e-08  1.170350e-07  \n",
       "3/construction & manufacturing/us      9.020770e-07  2.476290e-06  \n",
       "2/mining & utilities/us                1.897036e-10  5.207549e-10  \n",
       "6/government & other/us                2.998807e-11  8.232018e-11  "
      ]
     },
     "execution_count": 19,
     "metadata": {},
     "output_type": "execute_result"
    }
   ],
   "source": [
    "#DEMAND VECTOR DIRECT PERSPECTIVE\n",
    "#Calculate direct perspectiv result using this new prepared demand vector\n",
    "result3_response = r.post(base_url+model_name+'/calculate',headers=api_headers,json=data_to_post)\n",
    "result3 = result3_response.json()\n",
    "result3_df = pd.DataFrame(data=result3['data'],columns=result3['sectors'],index=result3['indicators']).transpose()\n",
    "result3_df = result3_df.sort_values(by=first_indictr_id,ascending=False)\n",
    "print('Top ten sectors by direct perspective impact for indicator '+ model_indictrs_names[0] + \n",
    "      ' for 1 M USD demand for ' +  first_sector_name + ', with 4 additional indicator results presented.')\n",
    "result3_df[model_indictrs_ids[0:5]].head(10)"
   ]
  },
  {
   "cell_type": "code",
   "execution_count": null,
   "metadata": {},
   "outputs": [],
   "source": []
  }
 ],
 "metadata": {
  "kernelspec": {
   "display_name": "Python 3",
   "language": "python",
   "name": "python3"
  },
  "language_info": {
   "codemirror_mode": {
    "name": "ipython",
    "version": 3
   },
   "file_extension": ".py",
   "mimetype": "text/x-python",
   "name": "python",
   "nbconvert_exporter": "python",
   "pygments_lexer": "ipython3",
   "version": "3.7.2"
  }
 },
 "nbformat": 4,
 "nbformat_minor": 2
}
